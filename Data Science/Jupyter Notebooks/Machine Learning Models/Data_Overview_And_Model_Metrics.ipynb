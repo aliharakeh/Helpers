{
 "cells": [
  {
   "cell_type": "markdown",
   "metadata": {
    "collapsed": true,
    "pycharm": {
     "is_executing": false,
     "name": "#%% md\n"
    }
   },
   "source": [
    "# Confusion Matrix\n",
    "\n",
    "![title](images/Confusion_Matrix.jpg)\n",
    "\n",
    "### True-Positive\n",
    "(Predicted=1, Actual=1)\n",
    "### False-Positive\n",
    "(Predicted=1, Actual=0)\n",
    "### True-Negative\n",
    "(Predicted=0, Actual=0)\n",
    "### False-Negative\n",
    "(Predicted=0, Actual=1)"
   ]
  },
  {
   "cell_type": "markdown",
   "metadata": {
    "pycharm": {
     "is_executing": false,
     "name": "#%% md\n"
    }
   },
   "source": [
    "# Metrics\n",
    "\n",
    "![title](images/Metrics.png)\n",
    "\n",
    "![title](images/Metrics2.png)\n",
    "\n",
    "## Accuracy: \n",
    "Overall, how often is the classifier correct?\n",
    "\n",
    "**Accuracy = (TP + TN) / total**\n",
    "\n",
    "## Misclassification Rate: \n",
    "Overall, how often is it wrong?\n",
    "\n",
    "**Misclassification = (FP + FN) / total**\n",
    "\n",
    "## Precision: \n",
    "When it predicts yes, how often is it correct?\n",
    "\n",
    "**Precision = TP / (TP + FP)**, where **(TP + FP)** is the **Predicted Positive**\n",
    "\n",
    "## True Positive Rate (Recall): \n",
    "When it's actually yes, how often does it predict yes?\n",
    "\n",
    "**Recall = TP / (TP + FN)**, where **(TP + FN)** is the **Actual Positive**\n",
    "\n",
    "## F-Score: \n",
    "This is a weighted average of the true positive rate (recall) and precision.\n",
    "\n",
    "**F1-Score = 2 * Precision * Recall / (Precision + Recall)**"
   ]
  },
  {
   "cell_type": "markdown",
   "metadata": {
    "pycharm": {
     "name": "#%% md\n"
    }
   },
   "source": [
    "## Prepare Data"
   ]
  },
  {
   "cell_type": "code",
   "execution_count": 1,
   "metadata": {
    "pycharm": {
     "is_executing": false,
     "name": "#%%\n"
    }
   },
   "outputs": [],
   "source": [
    "from sklearn.datasets import load_iris\n",
    "from sklearn.model_selection import train_test_split\n",
    "\n",
    "# get data\n",
    "iris = load_iris()\n",
    "x = iris.data\n",
    "y = iris.target\n",
    "\n",
    "# split data into train(80%) & test(20%) data since we don't have anything to test on\n",
    "x_train, x_test, y_train, y_test = train_test_split(x, y, test_size=0.2, random_state=1)"
   ]
  },
  {
   "cell_type": "markdown",
   "metadata": {
    "pycharm": {
     "name": "#%% md\n"
    }
   },
   "source": [
    "## Plot Confusion Matrix"
   ]
  },
  {
   "cell_type": "code",
   "execution_count": 2,
   "metadata": {
    "pycharm": {
     "is_executing": false,
     "name": "#%%\n"
    }
   },
   "outputs": [
    {
     "data": {
      "text/plain": [
       "<sklearn.metrics._plot.confusion_matrix.ConfusionMatrixDisplay at 0x1a9ce5cdc08>"
      ]
     },
     "execution_count": 2,
     "metadata": {},
     "output_type": "execute_result"
    },
    {
     "data": {
      "image/png": "[encoded data removed]",
      "text/plain": [
       "<Figure size 432x288 with 2 Axes>"
      ]
     },
     "metadata": {
      "needs_background": "light"
     },
     "output_type": "display_data"
    }
   ],
   "source": [
    "from sklearn.metrics import plot_confusion_matrix\n",
    "from sklearn.neighbors import KNeighborsClassifier\n",
    "\n",
    "model = KNeighborsClassifier(n_neighbors=3) # example model\n",
    "model.fit(x_train, y_train)\n",
    "y_predict = model.predict(x_test)\n",
    "plot_confusion_matrix(model, x_test, y_test, labels=[1, 0], display_labels=['Positive', 'Negative'])"
   ]
  },
  {
   "cell_type": "markdown",
   "metadata": {
    "pycharm": {
     "is_executing": false,
     "name": "#%%\n"
    }
   },
   "source": [
    "# Other Metrics"
   ]
  },
  {
   "cell_type": "code",
   "execution_count": 4,
   "metadata": {
    "pycharm": {
     "is_executing": false,
     "name": "#%%\n"
    }
   },
   "outputs": [
    {
     "name": "stdout",
     "output_type": "stream",
     "text": [
      "accuracy_score\n",
      "1.0\n",
      "----------------------------------------------\n",
      "recall_score\n",
      "1.0\n",
      "----------------------------------------------\n",
      "f1_score\n",
      "1.0\n",
      "----------------------------------------------\n",
      "classification_report\n",
      "              precision    recall  f1-score   support\n",
      "\n",
      "           0       1.00      1.00      1.00        11\n",
      "           1       1.00      1.00      1.00        13\n",
      "           2       1.00      1.00      1.00         6\n",
      "\n",
      "    accuracy                           1.00        30\n",
      "   macro avg       1.00      1.00      1.00        30\n",
      "weighted avg       1.00      1.00      1.00        30\n",
      "\n",
      "----------------------------------------------\n",
      "confusion_matrix\n",
      "[[11  0  0]\n",
      " [ 0 13  0]\n",
      " [ 0  0  6]]\n",
      "----------------------------------------------\n"
     ]
    }
   ],
   "source": [
    "from sklearn.metrics import accuracy_score, recall_score, f1_score, classification_report, confusion_matrix\n",
    "_metrics = {\n",
    "    'accuracy_score': accuracy_score(y_test, y_predict),\n",
    "    'recall_score': recall_score(y_test, y_predict, average='weighted'), # wighted since we have 3 classes\n",
    "    'f1_score': f1_score(y_test, y_predict, average='weighted'), # wighted since we have 3 classes\n",
    "    'classification_report': classification_report(y_test, y_predict),\n",
    "    'confusion_matrix': confusion_matrix(y_test, y_predict),\n",
    "}\n",
    "\n",
    "for metric, _func in _metrics.items():\n",
    "    print(metric)\n",
    "    print(_func)\n",
    "    print('----------------------------------------------')"
   ]
  }
 ],
 "metadata": {
  "kernelspec": {
   "display_name": "Python 3",
   "language": "python",
   "name": "python3"
  },
  "language_info": {
   "codemirror_mode": {
    "name": "ipython",
    "version": 3
   },
   "file_extension": ".py",
   "mimetype": "text/x-python",
   "name": "python",
   "nbconvert_exporter": "python",
   "pygments_lexer": "ipython3",
   "version": "3.7.5"
  },
  "pycharm": {
   "stem_cell": {
    "cell_type": "raw",
    "metadata": {
     "collapsed": false
    },
    "source": []
   }
  }
 },
 "nbformat": 4,
 "nbformat_minor": 1
}
