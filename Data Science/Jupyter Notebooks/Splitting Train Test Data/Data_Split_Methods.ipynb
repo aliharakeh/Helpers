{
 "cells": [
  {
   "cell_type": "markdown",
   "metadata": {
    "collapsed": true,
    "pycharm": {
     "name": "#%% md\n"
    }
   },
   "source": [
    "In Machine learning, we usually divide the dataset into Training dataset, Validation dataset, and Test dataset.\n",
    "\n",
    "![title](images/data_split.png)"
   ]
  },
  {
   "cell_type": "markdown",
   "metadata": {
    "pycharm": {
     "name": "#%% md\n"
    }
   },
   "source": [
    "**Training data set** — used to train the model, it can vary but typically we use 60% of the available data for training.\n",
    "\n",
    "**Validation data set** — Once we select the model that performs well on training data, we run the model on validation data set. This is a subset of the data usually ranges from 10% to 20%. Validation data set helps provide an unbiased evaluation of the model’s fitness. If the error on the validation dataset increases then we have an overfitting model.\n",
    "\n",
    "**Test dataset** — Also called as holdout data set. This dataset contains data that has never been used in the training. Test data set helps with final model evaluation. Typically would be 5% to 20% of the dataset.\n",
    "\n",
    "Sometimes there can be only training and test set and no validation set.\n",
    "\n",
    "# What’s the problem with this approach?\n",
    "- Due to sample variability between training and test set, our model gives a better prediction on training data but fail to generalize on test data. This leads to a low training error rate but a high test error rate.\n",
    "\n",
    "- When we split the dataset into training, validation and test set, we use only a subset of data and we know when we train on fewer observations the model will not perform well and overestimate the test error rate for the model to fit on the entire dataset"
   ]
  },
  {
   "cell_type": "markdown",
   "metadata": {},
   "source": [
    "# To solve the two issue we use an approach called cross-validation\n",
    "## What is cross-validation?\n",
    "Cross-validation is a statistical technique which involves partitioning the data into subsets, training the data on a subset and use the other subset to evaluate the model’s performance.\n",
    "\n",
    "To reduce variability we perform multiple rounds of cross-validation with different subsets from the same data. We combine the validation results from these multiple rounds to come up with an estimate of the model’s predictive performance.\n",
    "\n",
    "Cross-validation will give us a more accurate estimate of a model’s performance\n",
    "\n",
    "![title](images/cross_validation.png)\n",
    "\n",
    "We will explore the following cross-validation techniques\n",
    "- LOOCV -Leave one out cross-validation\n",
    "- K Fold\n",
    "- Stratified cross-validation\n",
    "- Time series cross-validation"
   ]
  },
  {
   "cell_type": "markdown",
   "metadata": {},
   "source": [
    "# Leave one out cross validation — LOOCV\n",
    "In LOOCV we divide the data set into two parts. In one part we have a single observation, which is our test data and in the other part, we have all the other observations from the dataset forming our training data.\n",
    "\n",
    "If we have a data set with n observations then training data contains n-1 observation and test data contains 1 observation.\n",
    "\n",
    "This process is iterated for each data point as shown below. Repeating this process n times generates n times Mean Square Error(MSE).\n",
    "\n",
    "![title](images/LOOCV.png)\n",
    "\n",
    "## Advantages of LOOCV\n",
    "- Far less bias as we have used the entire dataset for training compared to the validation set approach where we use only a subset(60% in our example above) of the data for training.\n",
    "- No randomness in the training/test data as performing LOOCV multiple times will yield same results\n",
    "\n",
    "## Disadvantages of LOOCV\n",
    "- MSE will vary as test data uses a single observation.This can introduce variability. If the data point is an outlier than the variability will be much higher.\n",
    "- Execution is expensive as the model has to be fitted n times"
   ]
  },
  {
   "cell_type": "markdown",
   "metadata": {},
   "source": [
    "# K fold cross validation\n",
    "This technique involves randomly dividing the dataset into k groups or folds of approximately equal size. The first fold is kept for testing and the model is trained on k-1 folds.\n",
    "\n",
    "The process is repeated K times and each time different fold or a different group of data points are used for validation.\n",
    "\n",
    "![title](images/k_fold1.png)\n",
    "\n",
    "As we repeat the process k times, we get k times Mean Square Error(MSE). MSE_1, MSE_2, …MSE_K, so k-Fold CV error is computed by taking average of the MSE over K folds\n",
    "\n",
    "![title](images/k_fold2.png)\n",
    "\n",
    "LOOCV is a variant of K fold where k=n.\n",
    "\n",
    "Typically the value of K in K fold is 5 or 10. when K is 10 if also refer it as 10 fold cross validation\n",
    "\n",
    "![title](images/k_fold3.png)\n",
    "\n",
    "The figure above shows the true test error and test error estimated by LOOCV and 10 fold cross-validation.\n",
    "\n",
    "## Advantages of K fold or 10-fold cross-validation\n",
    "- Computation time is reduced as we repeated the process only 10 times when the value of k is 10.\n",
    "- Reduced bias\n",
    "- Every data points get to be tested exactly once and is used in training k-1 times\n",
    "- The variance of the resulting estimate is reduced as k increases\n",
    "\n",
    "## Disadvantages of K fold or 10-fold cross-validation\n",
    "- The training algorithm is computationally intensive as the algorithm has to be rerun from scratch k times."
   ]
  },
  {
   "cell_type": "markdown",
   "metadata": {},
   "source": [
    "# Stratified cross-validation\n",
    "Stratification is a technique where we rearrange the data in a way that each fold has a good representation of the whole dataset. It forces each fold to have at least m instances of each class. This approach ensures that one class of data is not overrepresented especially when the target variable is unbalanced.\n",
    "\n",
    "For example in a binary classification problem where we want to predict if a passenger on Titanic survived or not. we have two classes here Passenger either survived or did not survive. We ensure that each fold has a percentage of passengers that survived and a percentage of passengers that did not survive.\n",
    "\n",
    "![title](images/stratified_k_fold.png)\n",
    "\n",
    "Stratification cross validation helps with reducing both bias and variance"
   ]
  },
  {
   "cell_type": "markdown",
   "metadata": {
    "pycharm": {
     "name": "#%% md\n"
    }
   },
   "source": [
    "# Time series cross-validation\n",
    "Splitting time series data randomly does not help as the time-related data will be messed up.\n",
    "\n",
    "If we are working on predicting stock prices and if we randomly split the data then it will not help. Hence we need a different approach for performing cross-validation.\n",
    "\n",
    "For time series cross-validation we use forward chaining also referred as rolling-origin. Origin at which the forecast is based rolls forward in time.\n",
    "\n",
    "In time series cross-validation each day is a test data and we consider the previous day’s data is the training set.\n",
    "\n",
    "D1, D2, D3 etc. are each day’s data and days highlighted in blue are used for training and days highlighted in yellow are used for test.\n",
    "\n",
    "![title](images/time_series_cv.png)\n",
    "\n",
    "we start training the model with a minimum number of observations and use the next day's data to test the model and we keep moving through the data set. This ensures that we consider the time series aspect of the data for prediction."
   ]
  }
 ],
 "metadata": {
  "kernelspec": {
   "display_name": "Python 3",
   "language": "python",
   "name": "python3"
  },
  "language_info": {
   "codemirror_mode": {
    "name": "ipython",
    "version": 3
   },
   "file_extension": ".py",
   "mimetype": "text/x-python",
   "name": "python",
   "nbconvert_exporter": "python",
   "pygments_lexer": "ipython3",
   "version": "3.7.5"
  },
  "pycharm": {
   "stem_cell": {
    "cell_type": "raw",
    "metadata": {
     "collapsed": false
    },
    "source": []
   }
  }
 },
 "nbformat": 4,
 "nbformat_minor": 1
}
